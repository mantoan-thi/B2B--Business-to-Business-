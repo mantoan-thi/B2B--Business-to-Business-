{
  "nbformat": 4,
  "nbformat_minor": 0,
  "metadata": {
    "colab": {
      "name": "Sales Price Classification with Machine Learning (witn H2O - AutoML: Automatic Machine Learning).ipynb",
      "provenance": [],
      "authorship_tag": "ABX9TyMlS9wLZNqnwEILTOgSF5XB",
      "include_colab_link": true
    },
    "kernelspec": {
      "name": "python3",
      "display_name": "Python 3"
    },
    "language_info": {
      "name": "python"
    }
  },
  "cells": [
    {
      "cell_type": "markdown",
      "metadata": {
        "id": "view-in-github",
        "colab_type": "text"
      },
      "source": [
        "<a href=\"https://colab.research.google.com/github/mantoan-thi/B2B-Business-to-Business/blob/main/Sales_Price_Classification_with_Machine_Learning_(witn_H2O_AutoML_Automatic_Machine_Learning).ipynb\" target=\"_parent\"><img src=\"https://colab.research.google.com/assets/colab-badge.svg\" alt=\"Open In Colab\"/></a>"
      ]
    },
    {
      "cell_type": "markdown",
      "metadata": {
        "id": "8dTMoV7pLIa7"
      },
      "source": [
        "# Instalações"
      ]
    },
    {
      "cell_type": "code",
      "metadata": {
        "id": "SnWqFzs5LUze"
      },
      "source": [
        "!pip install h2o"
      ],
      "execution_count": null,
      "outputs": []
    },
    {
      "cell_type": "markdown",
      "metadata": {
        "id": "w9exkn9jLZxn"
      },
      "source": [
        "# Importando as bibliotecas"
      ]
    },
    {
      "cell_type": "code",
      "metadata": {
        "id": "TJlnfrcgLqzW"
      },
      "source": [
        "import pandas as pd\n",
        "import h2o\n",
        "from h2o.automl import H2OAutoML"
      ],
      "execution_count": 335,
      "outputs": []
    },
    {
      "cell_type": "markdown",
      "metadata": {
        "id": "VfVJD5I3xXur"
      },
      "source": [
        "# Treinando o modelo"
      ]
    },
    {
      "cell_type": "code",
      "metadata": {
        "id": "__iz5UhcrlLR"
      },
      "source": [
        "def processar(dados, cls,tm):\n",
        "  data = dados\n",
        "  classe = cls\n",
        "  tempo_maximo = tm\n",
        "\n",
        "  # Identifica dinamicamente as colunas do arquivo csv\n",
        "  colunas = data.columns.tolist()\n",
        "  variaveis_independentes = [coluna for coluna in colunas if coluna != classe]\n",
        "\n",
        "  # Divide os dados em treino e teste\n",
        "  data = h2o.H2OFrame(data)\n",
        "  treino, teste = data.split_frame(ratios=[.7])\n",
        "\n",
        "  # Transforma a variavel dependente em fator\n",
        "  treino[classe] = treino[classe].asfactor()\n",
        "  teste[classe] = teste[classe].asfactor()\n",
        "\n",
        "  # Auto ML\n",
        "  # Busca o modelo valor gravado no atributo tempo_maximo em segundos. podemos em vez disso definir max_models\n",
        "  modelo_automl = H2OAutoML(max_runtime_secs=tempo_maximo,sort_metric='AUC')\n",
        "  #modelo_automl = H2OAutoML(max_models=20, seed=1)\n",
        "  modelo_automl.train(y=classe, training_frame=treino)\n",
        "\n",
        "  # Ranking dos melhores AutoML\n",
        "  ranking = modelo_automl.leaderboard\n",
        "  #ranking = ranking.as_data_frame()\n",
        "\n",
        "  # Imprime todas as linhas em vez do padrão (10 linhas)\n",
        "  ranking.head(rows=ranking.nrows)\n",
        "\n",
        "  # O modelo líder é armazenado aqui\n",
        "  modelo_automl.leader\n",
        "\n",
        "  return ranking, modelo_automl,treino,teste"
      ],
      "execution_count": 358,
      "outputs": []
    },
    {
      "cell_type": "code",
      "metadata": {
        "id": "ACD76F5wvbWB"
      },
      "source": [
        "def prever(aml, dados_test):\n",
        "  # Para gerar previsões em um conjunto de teste, você pode fazer previsões\n",
        "  # diretamente no objeto `H2OAutoML` ou no modelo líder\n",
        "  # objeto diretamente\n",
        "  preds = aml.predict(test)\n",
        "\n",
        "  # ou:\n",
        "  #preds = aml.leader.predict(test)\n",
        "  return preds"
      ],
      "execution_count": 359,
      "outputs": []
    },
    {
      "cell_type": "markdown",
      "metadata": {
        "id": "PcqtysXDxjA_"
      },
      "source": [
        "# Testando"
      ]
    },
    {
      "cell_type": "markdown",
      "metadata": {
        "id": "BJdbg6hjxpcP"
      },
      "source": [
        "Treinando..."
      ]
    },
    {
      "cell_type": "code",
      "metadata": {
        "colab": {
          "base_uri": "https://localhost:8080/"
        },
        "id": "XaEcR801sGn5",
        "outputId": "065936d0-7367-426b-aa0a-c3723b775be3"
      },
      "source": [
        "dados = pd.read_csv(\"/content/vendas.txt\")\n",
        "cls = ' Marca_Propria'\n",
        "ranking, modelo_automl,treino,teste = processar(dados,cls,300)"
      ],
      "execution_count": 360,
      "outputs": [
        {
          "output_type": "stream",
          "name": "stdout",
          "text": [
            "Parse progress: |████████████████████████████████████████████████████████████████| (done) 100%\n",
            "AutoML progress: |█\n",
            "07:32:38.63: Skipping training of model GBM_1_AutoML_7_20210918_73236 due to exception: water.exceptions.H2OModelBuilderIllegalArgumentException: Illegal argument(s) for GBM model: GBM_1_AutoML_7_20210918_73236.  Details: ERRR on field: _min_rows: The dataset size is too small to split for min_rows=100.0: must have at least 200.0 (weighted) rows, but have only 25.0.\n",
            "\n",
            "\n",
            "██████████████████████████████████████████████████████████████| (done) 100%\n"
          ]
        }
      ]
    },
    {
      "cell_type": "code",
      "metadata": {
        "colab": {
          "base_uri": "https://localhost:8080/",
          "height": 565
        },
        "id": "bdlr_1Hwxt7e",
        "outputId": "ef8fec1c-f194-49f7-c72b-4f2a166f94c2"
      },
      "source": [
        "# Ranking\n",
        "rank"
      ],
      "execution_count": 361,
      "outputs": [
        {
          "output_type": "display_data",
          "data": {
            "text/html": [
              "<table>\n",
              "<thead>\n",
              "<tr><th>model_id                                              </th><th style=\"text-align: right;\">     auc</th><th style=\"text-align: right;\">  logloss</th><th style=\"text-align: right;\">   aucpr</th><th style=\"text-align: right;\">  mean_per_class_error</th><th style=\"text-align: right;\">    rmse</th><th style=\"text-align: right;\">      mse</th></tr>\n",
              "</thead>\n",
              "<tbody>\n",
              "<tr><td>StackedEnsemble_BestOfFamily_1_AutoML_5_20210918_72330</td><td style=\"text-align: right;\">1       </td><td style=\"text-align: right;\">0.198083 </td><td style=\"text-align: right;\">1       </td><td style=\"text-align: right;\">             0        </td><td style=\"text-align: right;\">0.221876</td><td style=\"text-align: right;\">0.0492291</td></tr>\n",
              "<tr><td>DRF_1_AutoML_5_20210918_72330                         </td><td style=\"text-align: right;\">1       </td><td style=\"text-align: right;\">0.0969521</td><td style=\"text-align: right;\">1       </td><td style=\"text-align: right;\">             0        </td><td style=\"text-align: right;\">0.158947</td><td style=\"text-align: right;\">0.0252641</td></tr>\n",
              "<tr><td>GLM_1_AutoML_5_20210918_72330                         </td><td style=\"text-align: right;\">1       </td><td style=\"text-align: right;\">0.0786486</td><td style=\"text-align: right;\">1       </td><td style=\"text-align: right;\">             0        </td><td style=\"text-align: right;\">0.137284</td><td style=\"text-align: right;\">0.0188469</td></tr>\n",
              "<tr><td>XRT_1_AutoML_5_20210918_72330                         </td><td style=\"text-align: right;\">1       </td><td style=\"text-align: right;\">0.0989431</td><td style=\"text-align: right;\">1       </td><td style=\"text-align: right;\">             0        </td><td style=\"text-align: right;\">0.160515</td><td style=\"text-align: right;\">0.0257651</td></tr>\n",
              "<tr><td>StackedEnsemble_BestOfFamily_2_AutoML_5_20210918_72330</td><td style=\"text-align: right;\">0.994152</td><td style=\"text-align: right;\">0.235334 </td><td style=\"text-align: right;\">0.988293</td><td style=\"text-align: right;\">             0.0263158</td><td style=\"text-align: right;\">0.261358</td><td style=\"text-align: right;\">0.0683082</td></tr>\n",
              "<tr><td>GBM_5_AutoML_5_20210918_72330                         </td><td style=\"text-align: right;\">0.994152</td><td style=\"text-align: right;\">0.078667 </td><td style=\"text-align: right;\">0.988293</td><td style=\"text-align: right;\">             0.0263158</td><td style=\"text-align: right;\">0.164782</td><td style=\"text-align: right;\">0.027153 </td></tr>\n",
              "<tr><td>GBM_grid_1_AutoML_5_20210918_72330_model_1            </td><td style=\"text-align: right;\">0.988304</td><td style=\"text-align: right;\">0.122639 </td><td style=\"text-align: right;\">0.980161</td><td style=\"text-align: right;\">             0.0555556</td><td style=\"text-align: right;\">0.18244 </td><td style=\"text-align: right;\">0.0332844</td></tr>\n",
              "<tr><td>XGBoost_grid_1_AutoML_5_20210918_72330_model_6        </td><td style=\"text-align: right;\">0.988304</td><td style=\"text-align: right;\">0.190047 </td><td style=\"text-align: right;\">0.975206</td><td style=\"text-align: right;\">             0.0263158</td><td style=\"text-align: right;\">0.223554</td><td style=\"text-align: right;\">0.0499765</td></tr>\n",
              "<tr><td>DeepLearning_grid_1_AutoML_5_20210918_72330_model_1   </td><td style=\"text-align: right;\">0.982456</td><td style=\"text-align: right;\">0.174949 </td><td style=\"text-align: right;\">0.970996</td><td style=\"text-align: right;\">             0.0555556</td><td style=\"text-align: right;\">0.25384 </td><td style=\"text-align: right;\">0.0644348</td></tr>\n",
              "<tr><td>GBM_grid_1_AutoML_5_20210918_72330_model_2            </td><td style=\"text-align: right;\">0.976608</td><td style=\"text-align: right;\">0.289268 </td><td style=\"text-align: right;\">0.964425</td><td style=\"text-align: right;\">             0.0555556</td><td style=\"text-align: right;\">0.27997 </td><td style=\"text-align: right;\">0.0783831</td></tr>\n",
              "<tr><td>StackedEnsemble_AllModels_1_AutoML_5_20210918_72330   </td><td style=\"text-align: right;\">0.97076 </td><td style=\"text-align: right;\">0.27433  </td><td style=\"text-align: right;\">0.943072</td><td style=\"text-align: right;\">             0.0818713</td><td style=\"text-align: right;\">0.290692</td><td style=\"text-align: right;\">0.0845021</td></tr>\n",
              "<tr><td>StackedEnsemble_AllModels_2_AutoML_5_20210918_72330   </td><td style=\"text-align: right;\">0.964912</td><td style=\"text-align: right;\">0.241704 </td><td style=\"text-align: right;\">0.932746</td><td style=\"text-align: right;\">             0.0789474</td><td style=\"text-align: right;\">0.270524</td><td style=\"text-align: right;\">0.0731831</td></tr>\n",
              "<tr><td>StackedEnsemble_BestOfFamily_3_AutoML_5_20210918_72330</td><td style=\"text-align: right;\">0.953216</td><td style=\"text-align: right;\">0.26198  </td><td style=\"text-align: right;\">0.904281</td><td style=\"text-align: right;\">             0.0789474</td><td style=\"text-align: right;\">0.285147</td><td style=\"text-align: right;\">0.0813088</td></tr>\n",
              "<tr><td>GBM_2_AutoML_5_20210918_72330                         </td><td style=\"text-align: right;\">0.944444</td><td style=\"text-align: right;\">0.251029 </td><td style=\"text-align: right;\">0.896291</td><td style=\"text-align: right;\">             0.105263 </td><td style=\"text-align: right;\">0.289765</td><td style=\"text-align: right;\">0.0839636</td></tr>\n",
              "<tr><td>GBM_4_AutoML_5_20210918_72330                         </td><td style=\"text-align: right;\">0.938596</td><td style=\"text-align: right;\">0.260411 </td><td style=\"text-align: right;\">0.865718</td><td style=\"text-align: right;\">             0.105263 </td><td style=\"text-align: right;\">0.294702</td><td style=\"text-align: right;\">0.0868493</td></tr>\n",
              "<tr><td>GBM_3_AutoML_5_20210918_72330                         </td><td style=\"text-align: right;\">0.938596</td><td style=\"text-align: right;\">0.264439 </td><td style=\"text-align: right;\">0.880845</td><td style=\"text-align: right;\">             0.105263 </td><td style=\"text-align: right;\">0.296368</td><td style=\"text-align: right;\">0.0878337</td></tr>\n",
              "<tr><td>DeepLearning_1_AutoML_5_20210918_72330                </td><td style=\"text-align: right;\">0.912281</td><td style=\"text-align: right;\">1.09896  </td><td style=\"text-align: right;\">0.862033</td><td style=\"text-align: right;\">             0.163743 </td><td style=\"text-align: right;\">0.625817</td><td style=\"text-align: right;\">0.391647 </td></tr>\n",
              "<tr><td>XGBoost_grid_1_AutoML_5_20210918_72330_model_3        </td><td style=\"text-align: right;\">0.502924</td><td style=\"text-align: right;\">0.634207 </td><td style=\"text-align: right;\">0.327173</td><td style=\"text-align: right;\">             0.5      </td><td style=\"text-align: right;\">0.470073</td><td style=\"text-align: right;\">0.220968 </td></tr>\n",
              "<tr><td>XGBoost_2_AutoML_5_20210918_72330                     </td><td style=\"text-align: right;\">0.467836</td><td style=\"text-align: right;\">0.643976 </td><td style=\"text-align: right;\">0.289815</td><td style=\"text-align: right;\">             0.5      </td><td style=\"text-align: right;\">0.474109</td><td style=\"text-align: right;\">0.224779 </td></tr>\n",
              "<tr><td>XGBoost_grid_1_AutoML_5_20210918_72330_model_5        </td><td style=\"text-align: right;\">0.467836</td><td style=\"text-align: right;\">0.63329  </td><td style=\"text-align: right;\">0.289815</td><td style=\"text-align: right;\">             0.5      </td><td style=\"text-align: right;\">0.469629</td><td style=\"text-align: right;\">0.220551 </td></tr>\n",
              "<tr><td>XGBoost_grid_1_AutoML_5_20210918_72330_model_4        </td><td style=\"text-align: right;\">0.467836</td><td style=\"text-align: right;\">0.634864 </td><td style=\"text-align: right;\">0.289815</td><td style=\"text-align: right;\">             0.5      </td><td style=\"text-align: right;\">0.470335</td><td style=\"text-align: right;\">0.221215 </td></tr>\n",
              "<tr><td>XGBoost_1_AutoML_5_20210918_72330                     </td><td style=\"text-align: right;\">0.467836</td><td style=\"text-align: right;\">0.631485 </td><td style=\"text-align: right;\">0.289815</td><td style=\"text-align: right;\">             0.5      </td><td style=\"text-align: right;\">0.468666</td><td style=\"text-align: right;\">0.219647 </td></tr>\n",
              "<tr><td>XGBoost_grid_1_AutoML_5_20210918_72330_model_1        </td><td style=\"text-align: right;\">0.432749</td><td style=\"text-align: right;\">0.663088 </td><td style=\"text-align: right;\">0.276419</td><td style=\"text-align: right;\">             0.5      </td><td style=\"text-align: right;\">0.484784</td><td style=\"text-align: right;\">0.235015 </td></tr>\n",
              "<tr><td>XGBoost_3_AutoML_5_20210918_72330                     </td><td style=\"text-align: right;\">0.432749</td><td style=\"text-align: right;\">0.631278 </td><td style=\"text-align: right;\">0.276419</td><td style=\"text-align: right;\">             0.5      </td><td style=\"text-align: right;\">0.468527</td><td style=\"text-align: right;\">0.219517 </td></tr>\n",
              "<tr><td>XGBoost_grid_1_AutoML_5_20210918_72330_model_2        </td><td style=\"text-align: right;\">0.432749</td><td style=\"text-align: right;\">0.654957 </td><td style=\"text-align: right;\">0.276419</td><td style=\"text-align: right;\">             0.5      </td><td style=\"text-align: right;\">0.480627</td><td style=\"text-align: right;\">0.231002 </td></tr>\n",
              "</tbody>\n",
              "</table>"
            ]
          },
          "metadata": {}
        },
        {
          "output_type": "execute_result",
          "data": {
            "text/plain": [
              ""
            ]
          },
          "metadata": {},
          "execution_count": 361
        }
      ]
    },
    {
      "cell_type": "code",
      "metadata": {
        "colab": {
          "base_uri": "https://localhost:8080/",
          "height": 250
        },
        "id": "GRiwt6vKyW8O",
        "outputId": "4b2e48cc-17f5-4660-b0cb-9f6c5a2bd067"
      },
      "source": [
        "# Test\n",
        "test"
      ],
      "execution_count": 362,
      "outputs": [
        {
          "output_type": "display_data",
          "data": {
            "text/html": [
              "<table>\n",
              "<thead>\n",
              "<tr><th style=\"text-align: right;\">  Vendas</th><th style=\"text-align: right;\">  Preco</th><th style=\"text-align: right;\">  Horas</th><th style=\"text-align: right;\">   Marca_Propria</th></tr>\n",
              "</thead>\n",
              "<tbody>\n",
              "<tr><td style=\"text-align: right;\">      95</td><td style=\"text-align: right;\">     15</td><td style=\"text-align: right;\">      2</td><td style=\"text-align: right;\">               1</td></tr>\n",
              "<tr><td style=\"text-align: right;\">     125</td><td style=\"text-align: right;\">     12</td><td style=\"text-align: right;\">      7</td><td style=\"text-align: right;\">               0</td></tr>\n",
              "<tr><td style=\"text-align: right;\">     135</td><td style=\"text-align: right;\">     18</td><td style=\"text-align: right;\">     10</td><td style=\"text-align: right;\">               0</td></tr>\n",
              "<tr><td style=\"text-align: right;\">     120</td><td style=\"text-align: right;\">     20</td><td style=\"text-align: right;\">     10</td><td style=\"text-align: right;\">               1</td></tr>\n",
              "<tr><td style=\"text-align: right;\">     121</td><td style=\"text-align: right;\">     19</td><td style=\"text-align: right;\">      6</td><td style=\"text-align: right;\">               0</td></tr>\n",
              "<tr><td style=\"text-align: right;\">     132</td><td style=\"text-align: right;\">     14</td><td style=\"text-align: right;\">      9</td><td style=\"text-align: right;\">               0</td></tr>\n",
              "<tr><td style=\"text-align: right;\">     135</td><td style=\"text-align: right;\">     14</td><td style=\"text-align: right;\">     14</td><td style=\"text-align: right;\">               0</td></tr>\n",
              "<tr><td style=\"text-align: right;\">     127</td><td style=\"text-align: right;\">     19</td><td style=\"text-align: right;\">      4</td><td style=\"text-align: right;\">               0</td></tr>\n",
              "<tr><td style=\"text-align: right;\">     135</td><td style=\"text-align: right;\">     15</td><td style=\"text-align: right;\">     11</td><td style=\"text-align: right;\">               0</td></tr>\n",
              "<tr><td style=\"text-align: right;\">     140</td><td style=\"text-align: right;\">     13</td><td style=\"text-align: right;\">     15</td><td style=\"text-align: right;\">               0</td></tr>\n",
              "</tbody>\n",
              "</table>"
            ]
          },
          "metadata": {}
        },
        {
          "output_type": "execute_result",
          "data": {
            "text/plain": [
              ""
            ]
          },
          "metadata": {},
          "execution_count": 362
        }
      ]
    },
    {
      "cell_type": "code",
      "metadata": {
        "colab": {
          "base_uri": "https://localhost:8080/",
          "height": 267
        },
        "id": "8Xjz4Ikxy2mZ",
        "outputId": "ceb172fd-d547-4394-8570-759f8d64c1a7"
      },
      "source": [
        "prever(modelo_ml,test)"
      ],
      "execution_count": 363,
      "outputs": [
        {
          "output_type": "stream",
          "name": "stdout",
          "text": [
            "stackedensemble prediction progress: |███████████████████████████████████████████| (done) 100%\n"
          ]
        },
        {
          "output_type": "display_data",
          "data": {
            "text/html": [
              "<table>\n",
              "<thead>\n",
              "<tr><th style=\"text-align: right;\">  predict</th><th style=\"text-align: right;\">      p0</th><th style=\"text-align: right;\">        p1</th></tr>\n",
              "</thead>\n",
              "<tbody>\n",
              "<tr><td style=\"text-align: right;\">        1</td><td style=\"text-align: right;\">0.020089</td><td style=\"text-align: right;\">0.979911  </td></tr>\n",
              "<tr><td style=\"text-align: right;\">        0</td><td style=\"text-align: right;\">0.769681</td><td style=\"text-align: right;\">0.230319  </td></tr>\n",
              "<tr><td style=\"text-align: right;\">        0</td><td style=\"text-align: right;\">0.969276</td><td style=\"text-align: right;\">0.0307238 </td></tr>\n",
              "<tr><td style=\"text-align: right;\">        0</td><td style=\"text-align: right;\">0.833906</td><td style=\"text-align: right;\">0.166094  </td></tr>\n",
              "<tr><td style=\"text-align: right;\">        0</td><td style=\"text-align: right;\">0.645678</td><td style=\"text-align: right;\">0.354322  </td></tr>\n",
              "<tr><td style=\"text-align: right;\">        0</td><td style=\"text-align: right;\">0.936728</td><td style=\"text-align: right;\">0.063272  </td></tr>\n",
              "<tr><td style=\"text-align: right;\">        0</td><td style=\"text-align: right;\">0.988631</td><td style=\"text-align: right;\">0.0113695 </td></tr>\n",
              "<tr><td style=\"text-align: right;\">        0</td><td style=\"text-align: right;\">0.689594</td><td style=\"text-align: right;\">0.310406  </td></tr>\n",
              "<tr><td style=\"text-align: right;\">        0</td><td style=\"text-align: right;\">0.974785</td><td style=\"text-align: right;\">0.0252146 </td></tr>\n",
              "<tr><td style=\"text-align: right;\">        0</td><td style=\"text-align: right;\">0.995266</td><td style=\"text-align: right;\">0.00473401</td></tr>\n",
              "</tbody>\n",
              "</table>"
            ]
          },
          "metadata": {}
        },
        {
          "output_type": "execute_result",
          "data": {
            "text/plain": [
              ""
            ]
          },
          "metadata": {},
          "execution_count": 363
        }
      ]
    }
  ]
}